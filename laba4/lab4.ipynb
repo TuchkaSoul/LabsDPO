{
 "cells": [
  {
   "cell_type": "code",
   "execution_count": 1,
   "metadata": {},
   "outputs": [],
   "source": [
    "import zeep"
   ]
  },
  {
   "cell_type": "code",
   "execution_count": 2,
   "metadata": {},
   "outputs": [],
   "source": [
    "from zeep import Client\n",
    "\n",
    "def NumberToWords():\n",
    "    url1=\"https://www.dataaccess.com/webservicesserver/NumberConversion.wso\"+\"?wsdl\"\n",
    "    client=Client(wsdl=url1)\n",
    "    print(client.service.NumberToWords(int(input(\"Введите число для перевода на словесное описание\"))))\n",
    "\n",
    "def NumberToDollars():\n",
    "    url1=\"https://www.dataaccess.com/webservicesserver/NumberConversion.wso\"+\"?wsdl\"\n",
    "    client=Client(wsdl=url1)\n",
    "    print(client.service.NumberToDollars(int(input(\"Введите число для перевода на словесное описание\"))))"
   ]
  },
  {
   "cell_type": "code",
   "execution_count": 3,
   "metadata": {},
   "outputs": [],
   "source": [
    "def CalculatorAdd():\n",
    "    print(\"Сложение\")\n",
    "    url1=\"http://www.dneonline.com/calculator.asmx\"+\"?wsdl\"\n",
    "    client=Client(wsdl=url1)\n",
    "    print(client.service.Add(int(input(\"Введите число 1\")),int(input(\"Введите число 2\"))))\n",
    "\n",
    "def CalculatorDivide():\n",
    "    print(\"Деление\")\n",
    "    url1=\"http://www.dneonline.com/calculator.asmx\"+\"?wsdl\"\n",
    "    client=Client(wsdl=url1)\n",
    "    print(client.service.Divide(int(input(\"Введите число 1\")),int(input(\"Введите число 2\"))))\n",
    "\n",
    "def CalculatorMultiply():\n",
    "    print(\"Умножение\")\n",
    "    url1=\"http://www.dneonline.com/calculator.asmx\"+\"?wsdl\"\n",
    "    client=Client(wsdl=url1)\n",
    "    print(client.service.Multiply(int(input(\"Введите число 1\")),int(input(\"Введите число 2\"))))\n",
    "    \n",
    "def CalculatorSubtract():\n",
    "    print(\"Вычитание\")\n",
    "    url1=\"http://www.dneonline.com/calculator.asmx\"+\"?wsdl\"\n",
    "    client=Client(wsdl=url1)\n",
    "    print(client.service.Subtract(int(input(\"Введите число 1\")),int(input(\"Введите число 2\"))))"
   ]
  },
  {
   "cell_type": "code",
   "execution_count": 4,
   "metadata": {},
   "outputs": [],
   "source": [
    "def ListOfContinentsByName():\n",
    "  url1=\"http://webservices.oorsprong.org/websamples.countryinfo/CountryInfoService.wso\"+\"?wsdl\"\n",
    "  client=Client(wsdl=url1)\n",
    "  print(client.service.ListOfContinentsByName())\n",
    "\n",
    "def ListOfCountryNamesByName():\n",
    "  url1=\"http://webservices.oorsprong.org/websamples.countryinfo/CountryInfoService.wso\"+\"?wsdl\"\n",
    "  client=Client(wsdl=url1)\n",
    "  print(client.service.ListOfCountryNamesByName())\n",
    "  \n",
    "def CapitalCity():\n",
    "  print(\"Столица\")\n",
    "  url1=\"http://webservices.oorsprong.org/websamples.countryinfo/CountryInfoService.wso\"+\"?wsdl\"\n",
    "  client=Client(wsdl=url1)\n",
    "  print(client.service.CapitalCity(input(\"Введите sISOCode страны\")))\n",
    "  \n",
    "def CountryCurrency():\n",
    "  print(\"Валюта страны\")\n",
    "  url1=\"http://webservices.oorsprong.org/websamples.countryinfo/CountryInfoService.wso\"+\"?wsdl\"\n",
    "  client=Client(wsdl=url1)\n",
    "  print(client.service.CountryCurrency(input(\"Введите sISOCode страны\")))\n",
    "\n",
    "def CountryFlag():\n",
    "  from PIL import Image \n",
    "  import urllib.request\n",
    "  print(\"флаг страны\")\n",
    "  url1=\"http://webservices.oorsprong.org/websamples.countryinfo/CountryInfoService.wso\"+\"?wsdl\"\n",
    "  client=Client(wsdl=url1)\n",
    "  urllib.request.urlretrieve(client.service.CountryFlag(input(\"Введите sISOCode страны\")),\"flag.png\")\n",
    "  img = Image.open(r\"flag.png\")\n",
    "  import matplotlib.pyplot as plt\n",
    "  fig = plt.figure()\n",
    "  ax = fig.add_subplot()\n",
    "  ax.imshow(img)\n",
    "  plt.show()\n",
    "\n",
    "def CountryIntPhoneCode():\n",
    "  print(\"телефонный код страны\")\n",
    "  url1=\"http://webservices.oorsprong.org/websamples.countryinfo/CountryInfoService.wso\"+\"?wsdl\"\n",
    "  client=Client(wsdl=url1)\n",
    "  print(client.service.CountryIntPhoneCode(input(\"Введите sISOCode страны\")))\n",
    "  \n",
    "def ListOfCurrenciesByName():\n",
    "  print(\"список валют\")\n",
    "  url1=\"http://webservices.oorsprong.org/websamples.countryinfo/CountryInfoService.wso\"+\"?wsdl\"\n",
    "  client=Client(wsdl=url1)\n",
    "  print(client.service.ListOfCurrenciesByName())\n",
    " \n",
    "def ListOfLanguagesByName():\n",
    "  print(\"список языков\")\n",
    "  url1=\"http://webservices.oorsprong.org/websamples.countryinfo/CountryInfoService.wso\"+\"?wsdl\"\n",
    "  client=Client(wsdl=url1)\n",
    "  print(client.service.ListOfLanguagesByName())\n",
    " "
   ]
  },
  {
   "cell_type": "code",
   "execution_count": 5,
   "metadata": {},
   "outputs": [],
   "source": [
    "def CelsiusToFahrenheit():\n",
    "  print(\"Перевод температуры в фаренгейты\")\n",
    "  url1=\"https://www.w3schools.com/xml/tempconvert.asmx\"+\"?wsdl\"\n",
    "  client=Client(wsdl=url1)\n",
    "  print(\"Температура в фаренгейтах: \"+client.service.CelsiusToFahrenheit(input(\"Введите Температуру в цельсиях\")))\n",
    "\n",
    "def FahrenheitToCelsius():\n",
    "  print(\"Перевод температуры в цельсии\")\n",
    "  url1=\"https://www.w3schools.com/xml/tempconvert.asmx\"+\"?wsdl\"\n",
    "  client=Client(wsdl=url1)\n",
    "  print(\"Температура в цельсии: \"+client.service.FahrenheitToCelsius(input(\"Введите Температуру в Фаренгейтах\")))\n",
    "\n"
   ]
  },
  {
   "cell_type": "code",
   "execution_count": 6,
   "metadata": {},
   "outputs": [],
   "source": [
    "def Book_ISBN13():\n",
    "  url=\"http://webservices.daehosting.com/services/isbnservice.wso\"+\"?wsdl\"\n",
    "  client=Client(wsdl=url)\n",
    "  print(client.service.IsValidISBN13(input(\"Введите 13 разрядное число\")))\n",
    "\n",
    "def Book_ISBN10():\n",
    "  url=\"http://webservices.daehosting.com/services/isbnservice.wso\"+\"?wsdl\"\n",
    "  client=Client(wsdl=url)\n",
    "  print(client.service.IsValidISBN10(input(\"Введите 10 разрядное число\")))"
   ]
  },
  {
   "cell_type": "code",
   "execution_count": 7,
   "metadata": {},
   "outputs": [
    {
     "name": "stdout",
     "output_type": "stream",
     "text": [
      "fifty one million six hundred and fifty one thousand two hundred and sixty five \n",
      "Перевод температуры в цельсии\n"
     ]
    },
    {
     "name": "stderr",
     "output_type": "stream",
     "text": [
      "Forcing soap:address location to HTTPS\n",
      "Forcing soap:address location to HTTPS\n",
      "Forcing http:address location to HTTPS\n"
     ]
    },
    {
     "name": "stdout",
     "output_type": "stream",
     "text": [
      "Температура в цельсии: 303116.666666667\n"
     ]
    },
    {
     "ename": "ValueError",
     "evalue": "invalid literal for int() with base 10: ''",
     "output_type": "error",
     "traceback": [
      "\u001b[1;31m---------------------------------------------------------------------------\u001b[0m",
      "\u001b[1;31mValueError\u001b[0m                                Traceback (most recent call last)",
      "Cell \u001b[1;32mIn[7], line 2\u001b[0m\n\u001b[0;32m      1\u001b[0m \u001b[38;5;28;01mwhile\u001b[39;00m \u001b[38;5;28;01mTrue\u001b[39;00m:\n\u001b[1;32m----> 2\u001b[0m     k\u001b[38;5;241m=\u001b[39m\u001b[38;5;28;43mint\u001b[39;49m\u001b[43m(\u001b[49m\u001b[38;5;28;43minput\u001b[39;49m\u001b[43m(\u001b[49m\u001b[38;5;124;43m\"\u001b[39;49m\u001b[38;5;124;43mВВедите номер команды\u001b[39;49m\u001b[38;5;124;43m\"\u001b[39;49m\u001b[43m)\u001b[49m\u001b[43m)\u001b[49m\n\u001b[0;32m      3\u001b[0m     \u001b[38;5;28;01mmatch\u001b[39;00m k:\n\u001b[0;32m      4\u001b[0m       \u001b[38;5;28;01mcase\u001b[39;00m \u001b[38;5;241m1\u001b[39m:\n",
      "\u001b[1;31mValueError\u001b[0m: invalid literal for int() with base 10: ''"
     ]
    }
   ],
   "source": [
    "while True:\n",
    "    k=int(input(\"ВВедите номер команды\"))\n",
    "    match k:\n",
    "      case 1:\n",
    "        NumberToWords()\n",
    "      case 2:\n",
    "        NumberToDollars()\n",
    "      case 3:\n",
    "        CalculatorAdd()\n",
    "      case 4:\n",
    "        CalculatorDivide()\n",
    "      case 5:\n",
    "        CalculatorMultiply()\n",
    "      case 6:\n",
    "        CalculatorSubtract()\n",
    "      case 7:\n",
    "        ListOfContinentsByName()\n",
    "      case 8:\n",
    "        ListOfCountryNamesByName()\n",
    "      case 9:\n",
    "        CapitalCity()\n",
    "      case 10:\n",
    "        CountryCurrency()\n",
    "      case 11:\n",
    "        CountryFlag()\n",
    "      case 12:\n",
    "        CountryIntPhoneCode()\n",
    "      case 13:\n",
    "        ListOfCurrenciesByName()\n",
    "      case 14:\n",
    "        ListOfLanguagesByName()\n",
    "      case 15:\n",
    "        ListOfCountryNamesByName()\n",
    "      case 16:\n",
    "        CelsiusToFahrenheit()\n",
    "      case 17:\n",
    "        FahrenheitToCelsius()\n",
    "      case 18:\n",
    "        Book_ISBN13()\n",
    "      case 19:\n",
    "        Book_ISBN10()\n",
    "      case 20:\n",
    "        break      \n",
    "      case _:\n",
    "        print(\"ошибка\")\n",
    "        \n",
    "     \n"
   ]
  }
 ],
 "metadata": {
  "kernelspec": {
   "display_name": "Python 3",
   "language": "python",
   "name": "python3"
  },
  "language_info": {
   "codemirror_mode": {
    "name": "ipython",
    "version": 3
   },
   "file_extension": ".py",
   "mimetype": "text/x-python",
   "name": "python",
   "nbconvert_exporter": "python",
   "pygments_lexer": "ipython3",
   "version": "3.11.6"
  }
 },
 "nbformat": 4,
 "nbformat_minor": 2
}
