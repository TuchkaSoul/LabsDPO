{
 "cells": [
  {
   "cell_type": "code",
   "execution_count": 3,
   "metadata": {},
   "outputs": [
    {
     "name": "stdout",
     "output_type": "stream",
     "text": [
      "[-9, -58, 54]\n",
      "[54, -58, -9]\n"
     ]
    }
   ],
   "source": [
    "from random import randint\n",
    "listic=[randint(-100, 100) for i in range(1,randint(1, 20))]\n",
    "print(listic)\n",
    "listic.reverse()\n",
    "print(listic)"
   ]
  },
  {
   "cell_type": "code",
   "execution_count": 4,
   "metadata": {},
   "outputs": [
    {
     "name": "stdout",
     "output_type": "stream",
     "text": [
      "[-20, 94, 51, -21, -30, -84, -98, 67, -5, 33, -85, -64, -99, -32, 61, 73, 21] \n",
      " [93, 73, -45, 75]\n",
      "[-20, 51, -30, -98, -5, -85, -99, 61, 21, 73, 75]\n"
     ]
    }
   ],
   "source": [
    "listic=[randint(-100, 100) for i in range(1,randint(1, 20))]\n",
    "listic_2=[randint(-100, 100) for i in range(1,randint(1, 20))]\n",
    "print(listic,\"\\n\",listic_2)\n",
    "resalt=[]\n",
    "for i in range(len(listic)):\n",
    "    if (i%2==0):\n",
    "        resalt.append(listic[i])\n",
    "for i in range(len(listic_2)):\n",
    "    if (i%2==1):\n",
    "        resalt.append(listic_2[i])\n",
    "print(resalt)"
   ]
  },
  {
   "cell_type": "code",
   "execution_count": 5,
   "metadata": {},
   "outputs": [
    {
     "name": "stdout",
     "output_type": "stream",
     "text": [
      "[6.58, 6.13, 8.18, 7.11, 2.95, 3.86, 1.7, 1.52, 4.15, 9.22, 7.74, 4.12, 7.94, 4.88, 7.05, 8.73, 6.42, 8.05, 2.46, 3.81, 6.37, 7.93, 7.94, 1.89, 1.86, 2.38, 3.28, 9.44, 3.09, 4.51, 5.79, 4.51, 8.94, 4.95, 3.07, 4.04, 3.43, 2.11, 6.9, 5.33, 4.77, 7.72, 1.06, 9.47, 2.45, 8.09, 9.48, 6.67, 9.93, 2.65, 9.79, 5.79, 7.29, 8.11, 8.48, 5.09, 2.93, 1.28, 2.65, 2.99, 7.45, 6.1, 2.83, 7.92, 4.31, 4.15, 3.18, 5.06, 8.38, 7.47, 2.9, 8.24, 3.16, 8.9, 4.78, 9.94, 4.52, 5.88, 9.83, 7.39, 5.7, 9.67, 7.72, 8.97, 5.66, 1.33, 9.66, 7.83, 6.87, 1.33, 1.67, 9.43, 2.47, 4.87, 8.25, 2.07, 5.05, 9.76, 3.37, 5.43, 3.27, 4.14, 2.78]\n",
      "{1.7, 2.95, 3.86, 1.52, 4.15, 6.58, 7.11, 8.18, 6.13, 9.22, 7.74, 4.12, 7.94, 7.05, 8.73, 8.05, 9.44, 9.47, 5.43, 7.93, 8.11, 8.25, 2.11, 2.93, 9.93, 9.79, 3.43, 3.18, 9.43, 1.86, 4.04, 5.79, 7.72, 7.29, 7.47, 2.65, 2.9, 2.47, 1.33, 2.83, 4.51, 5.33, 6.9, 7.83, 8.9, 8.94, 8.97, 9.83, 9.94, 9.76, 3.37, 4.87, 5.05, 6.37, 6.87, 3.09, 3.16, 4.77, 4.52, 5.09, 5.66, 8.09, 8.48, 9.48, 9.66, 3.27, 2.38, 2.45, 4.88, 4.95, 4.31, 5.06, 5.88, 5.7, 7.45, 1.06, 3.81, 1.67, 2.99, 6.42, 6.67, 6.1, 7.92, 8.24, 8.38, 2.78, 9.67, 3.28, 1.28, 2.46, 4.78, 1.89, 4.14, 7.39, 2.07, 3.07}\n"
     ]
    }
   ],
   "source": [
    "listic=[randint(100, 1000)/100 for i in range(1,randint(1, 200))]\n",
    "setic=set(listic)\n",
    "print (listic)\n",
    "print(setic)"
   ]
  },
  {
   "cell_type": "code",
   "execution_count": 29,
   "metadata": {},
   "outputs": [
    {
     "name": "stdout",
     "output_type": "stream",
     "text": [
      "скажите сколько записей должно быть в словаре\n",
      "20\n",
      "{'sdf': 7.1, 'fsdxs': 3.8, 'efwe6': 3.3, 'efewfwefs': 3.0, 'df': 8.5, 'wefwFVFEW': 7.2, 'FWEF': 2.8, 'WEF': 5.5, 'wef': 9.4, 'sDVCSdfvwe': 2.4, 'gvwE': 7.9, 'Ve': 4.4, 'gvsdfvasdv': 7.6, 'rbvGW': 0.9, 'G6V4rgRGGrgRG': 0.8, 'g': 1.7, '6G43EG6RDVG': 0.2, 'DVGWE': 1.2, 'G': 2.8, 'E': 9.9}\n",
      "[(7.1, ['sdf']), (3.8, ['fsdxs']), (3.3, ['efwe6']), (3.0, ['efewfwefs']), (8.5, ['df']), (7.2, ['wefwFVFEW']), (2.8, ['FWEF', 'G']), (5.5, ['WEF']), (9.4, ['wef']), (2.4, ['sDVCSdfvwe']), (7.9, ['gvwE']), (4.4, ['Ve']), (7.6, ['gvsdfvasdv']), (0.9, ['rbvGW']), (0.8, ['G6V4rgRGGrgRG']), (1.7, ['g']), (0.2, ['6G43EG6RDVG']), (1.2, ['DVGWE']), (2.8, ['FWEF', 'G']), (9.9, ['E'])]\n"
     ]
    }
   ],
   "source": [
    "from random import randint\n",
    "dictic={}\n",
    "listic=[]\n",
    "tuplic=()\n",
    "print(\"скажите сколько записей должно быть в словаре\")\n",
    "elementCount=int(input())\n",
    "print(elementCount)\n",
    "for i in range(elementCount):\n",
    "    dictic[input()]=randint(0,31)/10\n",
    "print(dictic)\n",
    "keys = list(dictic.keys())\n",
    "for i in keys:\n",
    "    tuplic=(dictic[i],[key for key, value in dictic.items() if value == dictic[i]])\n",
    "    listic.append(tuplic)\n",
    "\n",
    "print(listic)\n",
    "\n"
   ]
  },
  {
   "cell_type": "code",
   "execution_count": 34,
   "metadata": {},
   "outputs": [
    {
     "name": "stdout",
     "output_type": "stream",
     "text": [
      "скажите сколько записей должно быть в словаре\n",
      "30\n",
      "скажите сколько записей должно быть в словаре\n",
      "55\n",
      "{37: 1.6, 21: 3.0, 41: 0.4, 48: 1.8, 10: 1.4, 31: 0.3, 9: 0.2, 0: 2.9, 42: 2.4, 27: 1.0, 2: 1.6, 11: 2.6, 7: 1.8, 22: 0.8, 6: 0.5, 8: 1.1, 38: 2.2, 25: 0.3, 1: 2.4, 4: 1.1, 45: 1.2, 28: 1.2, 49: 0.7, 29: 2.9}\n",
      "{9: 2.7, 2: 2.5, 27: 0.6, 42: 0.2, 6: 2.2, 4: 1.5, 40: 0.5, 0: 3.1, 26: 0.3, 24: 1.2, 48: 1.4, 37: 2.4, 33: 3.1, 20: 0.5, 36: 1.2, 31: 3.0, 1: 1.0, 51: 1.2, 32: 2.1, 35: 2.7, 11: 2.6, 19: 2.1, 21: 2.4, 44: 2.5, 38: 0.9, 5: 1.9, 17: 1.8, 46: 3.1, 45: 1.7, 15: 2.7, 14: 3.0, 18: 2.3, 3: 0.4, 29: 1.2}\n",
      "{21: 2.4, 31: 0.3, 14: 3.0, 41: 0.4, 3: 0.4, 48: 1.8, 7: 1.8, 17: 1.8, 10: 1.4, 25: 0.3, 26: 0.3, 9: 0.2, 42: 2.4, 1: 2.4, 37: 2.4, 27: 1.0, 11: 2.6, 6: 2.2, 40: 0.5, 20: 0.5, 38: 2.2, 45: 1.2, 28: 1.2, 24: 1.2, 36: 1.2, 51: 1.2, 29: 1.2}\n"
     ]
    }
   ],
   "source": [
    "dictic={}\n",
    "dictic_2={}\n",
    "print(\"скажите сколько записей должно быть в словаре\")\n",
    "elementCount=randint(0,101)\n",
    "print(elementCount)\n",
    "for i in range(elementCount):\n",
    "    dictic[randint(0,51)]=randint(0,31)/10\n",
    "print(\"скажите сколько записей должно быть в словаре\")\n",
    "elementCount=randint(0,101)\n",
    "print(elementCount)\n",
    "for i in range(elementCount):\n",
    "    dictic_2[randint(0,51)]=randint(0,31)/10\n",
    "print(dictic)\n",
    "print(dictic_2)\n",
    "keys=list(dictic.keys())\n",
    "keys2=list(dictic_2.keys())\n",
    "\n",
    "listic.clear()\n",
    "listic_2.clear()\n",
    "for i in keys:\n",
    "    listic.append(dictic[i])\n",
    "setic2 = set\n",
    "for i in keys2:\n",
    "    listic_2.append(dictic_2[i])\n",
    "listic_2=[x for x in listic if x in listic_2]\n",
    "dictic_result={}\n",
    "for i in listic_2:\n",
    "    for j in [key for key, value in dictic.items() if value == i]:\n",
    "        dictic_result[j]=i\n",
    "    for j in [key for key, value in dictic_2.items() if value == i]:\n",
    "        dictic_result[j]=i\n",
    "\n",
    "        \n",
    "print(dictic_result)"
   ]
  },
  {
   "cell_type": "code",
   "execution_count": 1,
   "metadata": {},
   "outputs": [
    {
     "name": "stdout",
     "output_type": "stream",
     "text": [
      "Матрица не является симметричной\n"
     ]
    }
   ],
   "source": [
    "def is_symmetric(matrix):\n",
    "    n = len(matrix)\n",
    "    \n",
    "    for i in range(n):\n",
    "        for j in range(n):\n",
    "            if i != j and matrix[i][j] != matrix[j][i]:\n",
    "                return False\n",
    "    \n",
    "    return True\n",
    "\n",
    "# Пример использования функции\n",
    "matrix = [\n",
    "    [1, 0, 1, 0, 0, 1],\n",
    "    [0, 1, 0],\n",
    "    [0, 1, 0],\n",
    "    [0, 1, 0],\n",
    "    [0, 1, 0],\n",
    "    [1, 1, 1]\n",
    "]\n",
    "\n",
    "if is_symmetric(matrix):\n",
    "    print(\"Матрица является симметричной\")\n",
    "else:\n",
    "    print(\"Матрица не является симметричной\")"
   ]
  },
  {
   "cell_type": "markdown",
   "metadata": {},
   "source": []
  }
 ],
 "metadata": {
  "kernelspec": {
   "display_name": "Python 3",
   "language": "python",
   "name": "python3"
  },
  "language_info": {
   "codemirror_mode": {
    "name": "ipython",
    "version": 3
   },
   "file_extension": ".py",
   "mimetype": "text/x-python",
   "name": "python",
   "nbconvert_exporter": "python",
   "pygments_lexer": "ipython3",
   "version": "3.11.6"
  }
 },
 "nbformat": 4,
 "nbformat_minor": 2
}
